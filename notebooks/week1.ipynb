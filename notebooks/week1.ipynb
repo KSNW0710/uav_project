{
 "cells": [
  {
   "cell_type": "code",
   "execution_count": 5,
   "metadata": {},
   "outputs": [
    {
     "ename": "ModuleNotFoundError",
     "evalue": "No module named 'pandas'",
     "output_type": "error",
     "traceback": [
      "\u001b[0;31m---------------------------------------------------------------------------\u001b[0m",
      "\u001b[0;31mModuleNotFoundError\u001b[0m                       Traceback (most recent call last)",
      "Cell \u001b[0;32mIn[5], line 1\u001b[0m\n\u001b[0;32m----> 1\u001b[0m \u001b[38;5;28;01mimport\u001b[39;00m \u001b[38;5;21;01mpandas\u001b[39;00m \u001b[38;5;28;01mas\u001b[39;00m \u001b[38;5;21;01mpd\u001b[39;00m\n",
      "\u001b[0;31mModuleNotFoundError\u001b[0m: No module named 'pandas'"
     ]
    }
   ],
   "source": [
    "import pandas as pd"
   ]
  },
  {
   "cell_type": "code",
   "execution_count": 3,
   "metadata": {},
   "outputs": [],
   "source": [
    "df = pd.read_csv(\"../data/experiment_vol1.csv\")"
   ]
  },
  {
   "cell_type": "code",
   "execution_count": 4,
   "metadata": {},
   "outputs": [
    {
     "data": {
      "text/html": [
       "<div>\n",
       "<style scoped>\n",
       "    .dataframe tbody tr th:only-of-type {\n",
       "        vertical-align: middle;\n",
       "    }\n",
       "\n",
       "    .dataframe tbody tr th {\n",
       "        vertical-align: top;\n",
       "    }\n",
       "\n",
       "    .dataframe thead th {\n",
       "        text-align: right;\n",
       "    }\n",
       "</style>\n",
       "<table border=\"1\" class=\"dataframe\">\n",
       "  <thead>\n",
       "    <tr style=\"text-align: right;\">\n",
       "      <th></th>\n",
       "      <th>Propeller's Name</th>\n",
       "      <th>Blade's Name</th>\n",
       "      <th>Propeller's Brand</th>\n",
       "      <th>Number of Blades</th>\n",
       "      <th>Propeller's Diameter</th>\n",
       "      <th>Propeller's Pitch</th>\n",
       "      <th>Advanced Ratio Input</th>\n",
       "      <th>RPM Rotation Input</th>\n",
       "      <th>Thrust Coefficient Output</th>\n",
       "      <th>Power Coefficient Output</th>\n",
       "      <th>Efficiency Output</th>\n",
       "    </tr>\n",
       "  </thead>\n",
       "  <tbody>\n",
       "    <tr>\n",
       "      <th>0</th>\n",
       "      <td>ance 8.5x6.0 - 2</td>\n",
       "      <td>ance 8.5x6.0</td>\n",
       "      <td>ance</td>\n",
       "      <td>2</td>\n",
       "      <td>8.5</td>\n",
       "      <td>6.0</td>\n",
       "      <td>0.165</td>\n",
       "      <td>4000</td>\n",
       "      <td>0.0993</td>\n",
       "      <td>0.0539</td>\n",
       "      <td>0.304</td>\n",
       "    </tr>\n",
       "    <tr>\n",
       "      <th>1</th>\n",
       "      <td>ance 8.5x6.0 - 2</td>\n",
       "      <td>ance 8.5x6.0</td>\n",
       "      <td>ance</td>\n",
       "      <td>2</td>\n",
       "      <td>8.5</td>\n",
       "      <td>6.0</td>\n",
       "      <td>0.214</td>\n",
       "      <td>4000</td>\n",
       "      <td>0.0947</td>\n",
       "      <td>0.0543</td>\n",
       "      <td>0.374</td>\n",
       "    </tr>\n",
       "    <tr>\n",
       "      <th>2</th>\n",
       "      <td>ance 8.5x6.0 - 2</td>\n",
       "      <td>ance 8.5x6.0</td>\n",
       "      <td>ance</td>\n",
       "      <td>2</td>\n",
       "      <td>8.5</td>\n",
       "      <td>6.0</td>\n",
       "      <td>0.255</td>\n",
       "      <td>4000</td>\n",
       "      <td>0.0916</td>\n",
       "      <td>0.0548</td>\n",
       "      <td>0.427</td>\n",
       "    </tr>\n",
       "    <tr>\n",
       "      <th>3</th>\n",
       "      <td>ance 8.5x6.0 - 2</td>\n",
       "      <td>ance 8.5x6.0</td>\n",
       "      <td>ance</td>\n",
       "      <td>2</td>\n",
       "      <td>8.5</td>\n",
       "      <td>6.0</td>\n",
       "      <td>0.301</td>\n",
       "      <td>4000</td>\n",
       "      <td>0.0847</td>\n",
       "      <td>0.0540</td>\n",
       "      <td>0.473</td>\n",
       "    </tr>\n",
       "    <tr>\n",
       "      <th>4</th>\n",
       "      <td>ance 8.5x6.0 - 2</td>\n",
       "      <td>ance 8.5x6.0</td>\n",
       "      <td>ance</td>\n",
       "      <td>2</td>\n",
       "      <td>8.5</td>\n",
       "      <td>6.0</td>\n",
       "      <td>0.340</td>\n",
       "      <td>4000</td>\n",
       "      <td>0.0796</td>\n",
       "      <td>0.0530</td>\n",
       "      <td>0.511</td>\n",
       "    </tr>\n",
       "  </tbody>\n",
       "</table>\n",
       "</div>"
      ],
      "text/plain": [
       "   Propeller's Name  Blade's Name Propeller's Brand  Number of Blades  \\\n",
       "0  ance 8.5x6.0 - 2  ance 8.5x6.0              ance                 2   \n",
       "1  ance 8.5x6.0 - 2  ance 8.5x6.0              ance                 2   \n",
       "2  ance 8.5x6.0 - 2  ance 8.5x6.0              ance                 2   \n",
       "3  ance 8.5x6.0 - 2  ance 8.5x6.0              ance                 2   \n",
       "4  ance 8.5x6.0 - 2  ance 8.5x6.0              ance                 2   \n",
       "\n",
       "   Propeller's Diameter  Propeller's Pitch  Advanced Ratio Input  \\\n",
       "0                   8.5                6.0                 0.165   \n",
       "1                   8.5                6.0                 0.214   \n",
       "2                   8.5                6.0                 0.255   \n",
       "3                   8.5                6.0                 0.301   \n",
       "4                   8.5                6.0                 0.340   \n",
       "\n",
       "   RPM Rotation Input  Thrust Coefficient Output  Power Coefficient Output  \\\n",
       "0                4000                     0.0993                    0.0539   \n",
       "1                4000                     0.0947                    0.0543   \n",
       "2                4000                     0.0916                    0.0548   \n",
       "3                4000                     0.0847                    0.0540   \n",
       "4                4000                     0.0796                    0.0530   \n",
       "\n",
       "   Efficiency Output  \n",
       "0              0.304  \n",
       "1              0.374  \n",
       "2              0.427  \n",
       "3              0.473  \n",
       "4              0.511  "
      ]
     },
     "execution_count": 4,
     "metadata": {},
     "output_type": "execute_result"
    }
   ],
   "source": [
    "df.head()"
   ]
  },
  {
   "cell_type": "code",
   "execution_count": 5,
   "metadata": {},
   "outputs": [
    {
     "data": {
      "text/plain": [
       "Index(['Propeller's Name', 'Blade's Name', 'Propeller's Brand',\n",
       "       'Number of Blades', 'Propeller's Diameter', 'Propeller's Pitch',\n",
       "       'Advanced Ratio Input', 'RPM Rotation Input',\n",
       "       'Thrust Coefficient Output', 'Power Coefficient Output',\n",
       "       'Efficiency Output'],\n",
       "      dtype='object')"
      ]
     },
     "execution_count": 5,
     "metadata": {},
     "output_type": "execute_result"
    }
   ],
   "source": [
    "df.columns"
   ]
  },
  {
   "cell_type": "code",
   "execution_count": 6,
   "metadata": {},
   "outputs": [
    {
     "name": "stdout",
     "output_type": "stream",
     "text": [
      "<class 'pandas.core.frame.DataFrame'>\n",
      "RangeIndex: 16455 entries, 0 to 16454\n",
      "Data columns (total 11 columns):\n",
      " #   Column                     Non-Null Count  Dtype  \n",
      "---  ------                     --------------  -----  \n",
      " 0   Propeller's Name           16455 non-null  object \n",
      " 1   Blade's Name               16455 non-null  object \n",
      " 2   Propeller's Brand          16455 non-null  object \n",
      " 3   Number of Blades           16455 non-null  int64  \n",
      " 4   Propeller's Diameter       16455 non-null  float64\n",
      " 5   Propeller's Pitch          16455 non-null  float64\n",
      " 6   Advanced Ratio Input       16455 non-null  float64\n",
      " 7   RPM Rotation Input         16455 non-null  int64  \n",
      " 8   Thrust Coefficient Output  16455 non-null  float64\n",
      " 9   Power Coefficient Output   16455 non-null  float64\n",
      " 10  Efficiency Output          16455 non-null  float64\n",
      "dtypes: float64(6), int64(2), object(3)\n",
      "memory usage: 1.4+ MB\n"
     ]
    }
   ],
   "source": [
    "df.info()"
   ]
  },
  {
   "cell_type": "code",
   "execution_count": 4,
   "metadata": {},
   "outputs": [
    {
     "ename": "NameError",
     "evalue": "name 'pd' is not defined",
     "output_type": "error",
     "traceback": [
      "\u001b[0;31m---------------------------------------------------------------------------\u001b[0m",
      "\u001b[0;31mNameError\u001b[0m                                 Traceback (most recent call last)",
      "Cell \u001b[0;32mIn[4], line 1\u001b[0m\n\u001b[0;32m----> 1\u001b[0m df \u001b[38;5;241m=\u001b[39m \u001b[43mpd\u001b[49m\u001b[38;5;241m.\u001b[39mread_csv(\u001b[38;5;124m\"\u001b[39m\u001b[38;5;124m../data/experiment_vol1.csv\u001b[39m\u001b[38;5;124m\"\u001b[39m)\n",
      "\u001b[0;31mNameError\u001b[0m: name 'pd' is not defined"
     ]
    }
   ],
   "source": [
    "df = pd.read_csv(\"../data/experiment_vol1.csv\")"
   ]
  },
  {
   "cell_type": "code",
   "execution_count": null,
   "metadata": {},
   "outputs": [],
   "source": []
  }
 ],
 "metadata": {
  "kernelspec": {
   "display_name": "Python 3 (ipykernel)",
   "language": "python",
   "name": "python3"
  },
  "language_info": {
   "codemirror_mode": {
    "name": "ipython",
    "version": 3
   },
   "file_extension": ".py",
   "mimetype": "text/x-python",
   "name": "python",
   "nbconvert_exporter": "python",
   "pygments_lexer": "ipython3",
   "version": "3.12.4"
  }
 },
 "nbformat": 4,
 "nbformat_minor": 4
}
